{
 "cells": [
  {
   "cell_type": "markdown",
   "id": "92528acd",
   "metadata": {},
   "source": [
    "## First Trial"
   ]
  },
  {
   "cell_type": "code",
   "execution_count": null,
   "id": "ba79b6d2",
   "metadata": {},
   "outputs": [],
   "source": [
    "account_bal = 5000\n",
    "cost_of_items = input(\"What is the total cost of items? \")\n",
    "while(int(cost_of_items) > account_bal):\n",
    "    cost_of_items = input(\"It's bove your balance. Reduce the items \")\n",
    "bal_after_purchase = account_bal - int(cost_of_items)\n",
    "print(\"Your balance is\", bal_after_purchase)"
   ]
  },
  {
   "cell_type": "code",
   "execution_count": null,
   "id": "7db1ecbf",
   "metadata": {},
   "outputs": [],
   "source": []
  }
 ],
 "metadata": {
  "kernelspec": {
   "display_name": "Python 3 (ipykernel)",
   "language": "python",
   "name": "python3"
  },
  "language_info": {
   "codemirror_mode": {
    "name": "ipython",
    "version": 3
   },
   "file_extension": ".py",
   "mimetype": "text/x-python",
   "name": "python",
   "nbconvert_exporter": "python",
   "pygments_lexer": "ipython3",
   "version": "3.11.1"
  }
 },
 "nbformat": 4,
 "nbformat_minor": 5
}
